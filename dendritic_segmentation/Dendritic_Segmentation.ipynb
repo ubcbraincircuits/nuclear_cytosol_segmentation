{
 "cells": [
  {
   "cell_type": "code",
   "execution_count": null,
   "metadata": {},
   "outputs": [],
   "source": [
    "from tifffile import imread\n",
    "from aicsimageio.readers import CziReader\n",
    "from skimage.filters import threshold_otsu\n",
    "from skimage.exposure import adjust_gamma, is_low_contrast\n",
    "import h5py\n",
    "import matplotlib.pyplot as plt\n",
    "import matplotlib.image as mpimg\n",
    "import napari\n",
    "import numpy as np\n",
    "import numpy.ma as ma\n",
    "import subprocess \n",
    "import os, sys"
   ]
  },
  {
   "cell_type": "code",
   "execution_count": null,
   "metadata": {},
   "outputs": [],
   "source": [
    "%gui qt"
   ]
  },
  {
   "cell_type": "code",
   "execution_count": null,
   "metadata": {},
   "outputs": [],
   "source": [
    "\n",
    "\n",
    "# Path to CZI File\n",
    "#FILE_PATH = \"/mnt/5404b8a5-71b7-4464-9a1e-b40cd26fac58/Data_Drive/Wissam/Dendrite_Movies/Cell_351-WT-Green_Channel_Just_ECF_at_0_minutes_DIV19.czi\"\n",
    "FILE_PATH = '/home/peter/Downloads/Cell 368-WT.tif'\n",
    "# Cell's ID\n",
    "CELL_ID = \"Cell_368-WT\"\n",
    "\n",
    "# Path to ilastik launch script\n",
    "ILASTIK_LOC = '/home/peter/Applications/ilastik-1.3.3post3-Linux/run_ilastik.sh'\n",
    "\n",
    "#  Path to ilastik classifier project\n",
    "ILASTIK_PRO = 'neuron_classifier.ilp'\n",
    "\n",
    "SEG_DIC = {0:\"Background\",\n",
    "          1:\"Soma\",\n",
    "          2:\"Dendrites\"\n",
    "         }\n",
    "HZ = 10"
   ]
  },
  {
   "cell_type": "code",
   "execution_count": null,
   "metadata": {},
   "outputs": [],
   "source": [
    "if FILE_PATH[-3:] == 'czi':\n",
    "    print('CZI File Format')\n",
    "    Czi_File = CziReader(FILE_PATH)\n",
    "    movie = Czi_File.data[0,:,0,:,:]\n",
    "    del Czi_File\n",
    "\n",
    "if FILE_PATH[-3:] == ('tif' or 'iff'):\n",
    "    print('TIF File Format')\n",
    "    movie = imread(FILE_PATH)\n"
   ]
  },
  {
   "cell_type": "code",
   "execution_count": null,
   "metadata": {},
   "outputs": [],
   "source": [
    "max_project = np.max(movie, axis=0)\n",
    "brighter = adjust_gamma(max_project, gamma=.25)\n",
    "OUTPUT = '%s_Brighter.npy'%(CELL_ID)\n",
    "np.save(OUTPUT, brighter/brighter.max())\n"
   ]
  },
  {
   "cell_type": "code",
   "execution_count": null,
   "metadata": {},
   "outputs": [],
   "source": [
    "launch_args = [ILASTIK_LOC,\n",
    "               '--headless',\n",
    "               '--project='+ILASTIK_PRO,\n",
    "               '--export_source=probabilities',\n",
    "               OUTPUT]\n",
    "subprocess.run(launch_args)"
   ]
  },
  {
   "cell_type": "code",
   "execution_count": null,
   "metadata": {},
   "outputs": [],
   "source": [
    "pixel_classifier = h5py.File('%s_Brighter_Probabilities.h5'%(CELL_ID))\n",
    "classes = pixel_classifier['exported_data']\n"
   ]
  },
  {
   "cell_type": "code",
   "execution_count": null,
   "metadata": {},
   "outputs": [],
   "source": [
    "\n",
    "labels = np.zeros(max_project.shape)\n",
    "label = 0\n",
    "\n",
    "for i in range(classes.shape[2]):\n",
    "    class_mask = classes[:,:,i].copy()\n",
    "    class_mask[class_mask<.75]=0\n",
    "    test= max_project*class_mask\n",
    "    if i is not 0:\n",
    "        test = brighter * class_mask\n",
    "        threshold =threshold_otsu(test)\n",
    "        print(threshold)\n",
    "        test[test<threshold]=0\n",
    "        test[test>threshold]=1\n",
    "        labels[test>0]=label\n",
    "    label+=1\n",
    "    plt.imshow(test)\n",
    "    plt.show()"
   ]
  },
  {
   "cell_type": "code",
   "execution_count": null,
   "metadata": {},
   "outputs": [],
   "source": [
    "# Generates ROIs\n",
    "# 0  - Background\n",
    "# 1 - Soma\n",
    "# 2 - Dendrites\n",
    "labels = np.zeros(max_project.shape)\n",
    "label = 0\n",
    "for i in range(classes.shape[2]):\n",
    "    print(i)\n",
    "    labels[classes[:,:,i]>.60]=label\n",
    "    label+=1\n",
    "plt.imshow(labels)"
   ]
  },
  {
   "cell_type": "code",
   "execution_count": null,
   "metadata": {},
   "outputs": [],
   "source": [
    "# Clean up stuff from memory\n",
    "del test\n",
    "del classes\n",
    "del pixel_classifier"
   ]
  },
  {
   "cell_type": "code",
   "execution_count": null,
   "metadata": {},
   "outputs": [],
   "source": [
    "# Labels can be edited in the Napari window\n",
    "viewer = napari.view_image(movie, name='movie')\n",
    "viewer.add_labels(labels, name='Segments')"
   ]
  },
  {
   "cell_type": "code",
   "execution_count": null,
   "metadata": {},
   "outputs": [],
   "source": [
    "if os.path.exists('Output_Traces') == False:\n",
    "        os.makedirs('Output_Traces')"
   ]
  },
  {
   "cell_type": "code",
   "execution_count": null,
   "metadata": {},
   "outputs": [],
   "source": [
    "\n",
    "\n",
    "for i in (np.unique(labels)):\n",
    "    if i !=0:\n",
    "        trace_movie = movie.copy()\n",
    "        trace_movie = np.broadcast_to(labels==i, trace_movie.shape)\n",
    "        trace_movie.setflags(write=1)\n",
    "        trace_movie[trace_movie !=0]=1\n",
    "        trace_movie = movie*trace_movie\n",
    "\n",
    "        mask_arr = trace_movie==0\n",
    "\n",
    "        mx = ma.masked_array(trace_movie, mask=mask_arr)\n",
    "        mean = mx.mean(axis=(1,2))\n",
    "        print(\"Ca2+ Trace for the %s\" %SEG_DIC[i])\n",
    "        plt.plot(mean)\n",
    "        plt.show()\n",
    "      \n",
    "        np.savetxt(\"Output_Traces/{0}_{1}.csv\".format(CELL_ID, SEG_DIC[i]), mean, delimiter=\",\" )\n",
    "        del trace_movie\n",
    "        del mask_arr\n",
    "        del mx\n",
    "       \n",
    "        "
   ]
  },
  {
   "cell_type": "code",
   "execution_count": null,
   "metadata": {},
   "outputs": [],
   "source": []
  }
 ],
 "metadata": {
  "kernelspec": {
   "display_name": "Python 3",
   "language": "python",
   "name": "python3"
  },
  "language_info": {
   "codemirror_mode": {
    "name": "ipython",
    "version": 3
   },
   "file_extension": ".py",
   "mimetype": "text/x-python",
   "name": "python",
   "nbconvert_exporter": "python",
   "pygments_lexer": "ipython3",
   "version": "3.6.9"
  }
 },
 "nbformat": 4,
 "nbformat_minor": 4
}
