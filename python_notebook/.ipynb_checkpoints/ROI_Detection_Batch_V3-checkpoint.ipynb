{
 "cells": [
  {
   "cell_type": "code",
   "execution_count": null,
   "metadata": {},
   "outputs": [],
   "source": [
    "import matplotlib.pyplot as plt\n",
    "import os\n",
    "import numpy as np\n",
    "import pandas as pd\n",
    "from tqdm.notebook import tqdm\n",
    "from IPython.display import display, clear_output\n",
    "from ipywidgets import interact, interactive, fixed, interact_manual\n",
    "import ipywidgets as widgets\n",
    "#import functions as funcs\n",
    "import cell_class as cell\n"
   ]
  },
  {
   "cell_type": "code",
   "execution_count": null,
   "metadata": {},
   "outputs": [],
   "source": [
    "# Change output figure size\n",
    "# ...needs to be in its own cell for some reason...\n",
    "\n",
    "plt.rcParams['figure.figsize'] = [20, 5]"
   ]
  },
  {
   "cell_type": "markdown",
   "metadata": {},
   "source": [
    "Jia, H., Rochefort, N. L., Chen, X., & Konnerth, A. (2011).\n",
    "In vivo two-photon imaging of sensory-evoked dendritic calcium signals in cortical neurons.\n",
    "Nature protocols, 6(1), 28.\n",
    "\n",
    "Podgorski, K., & Haas, K. (2013).\n",
    "Fast non‐negative temporal deconvolution for laser scanning microscopy.\n",
    "Journal of biophotonics, 6(2), 153-162.\n",
    "\n",
    "Coleman, P. (2019).\n",
    "pyNeuroTrace. https://github.com/padster/pyNeuroTrace.git\n",
    "\n",
    "\n",
    "\n",
    "To install pyneuortrace use this:\n",
    " pip install --upgrade \"git+https://github.com/padster/pyNeuroTrace#egg=pyneurotrace&subdirectory=pyneurotrace\""
   ]
  },
  {
   "cell_type": "markdown",
   "metadata": {},
   "source": [
    "## Global Settings"
   ]
  },
  {
   "cell_type": "code",
   "execution_count": null,
   "metadata": {},
   "outputs": [],
   "source": [
    "DATA_DIRECTORY = '/mnt/5404b8a5-71b7-4464-9a1e-b40cd26fac58/Data_Drive/Wissam/osfstorage-archive/Data (Images)/'\n",
    "\n",
    "# Framerate of video in hz\n",
    "HZ = 10\n",
    "\n",
    "# Standard Deviation Threshold Multiplier\n",
    "STD_THRESH = 5\n",
    "\n",
    "# Power for Butterworth Lowpass filter\n",
    "Power = 3\n",
    "\n",
    "# Frequency cut-off\n",
    "FC = 3"
   ]
  },
  {
   "cell_type": "markdown",
   "metadata": {},
   "source": [
    "### Collects all the cells in the analysis data directory and groups them by condition in two lists"
   ]
  },
  {
   "cell_type": "code",
   "execution_count": null,
   "metadata": {},
   "outputs": [],
   "source": [
    "path = os.fspath(DATA_DIRECTORY)\n",
    "cells = sorted((os.listdir(path)))\n",
    "WT_Cells = []\n",
    "YAC128_Cells = []\n",
    "for folder in cells:\n",
    "    if 'WT'  in folder:\n",
    "        WT_Cells.append(folder[:-2])\n",
    "    if 'YAC128'  in folder:\n",
    "        YAC128_Cells.append(folder[:-2])\n",
    "        \n",
    "WT_Cells = np.unique(WT_Cells)\n",
    "YAC128_Cells = np.unique(YAC128_Cells)\n"
   ]
  },
  {
   "cell_type": "code",
   "execution_count": null,
   "metadata": {},
   "outputs": [],
   "source": [
    "# Preform analysis\n",
    "\n",
    "wt_results = pd.DataFrame(columns=['Name', 'Cell'])\n",
    "for exp in tqdm(WT_Cells):\n",
    "    wt_results = wt_results.append({'Name':exp,\n",
    "                       'Cell': cell.cell(DATA_DIRECTORY, exp, HZ, Power, FC, STD_THRESH)}, ignore_index=True )\n",
    "    "
   ]
  },
  {
   "cell_type": "code",
   "execution_count": null,
   "metadata": {},
   "outputs": [],
   "source": [
    "# Preform analysis\n",
    "\n",
    "yac128_results = pd.DataFrame(columns=['Name', 'Cell'])\n",
    "for exp in tqdm(YAC128_Cells):\n",
    "    yac128_results = yac128_results.append({'Name':exp,\n",
    "                       'Cell': cell.cell(DATA_DIRECTORY, exp, HZ, Power, FC, STD_THRESH)}, ignore_index=True )\n",
    "    "
   ]
  },
  {
   "cell_type": "code",
   "execution_count": null,
   "metadata": {},
   "outputs": [],
   "source": [
    "list1 = []\n",
    "list1.append(3)"
   ]
  },
  {
   "cell_type": "code",
   "execution_count": null,
   "metadata": {},
   "outputs": [],
   "source": [
    "list1"
   ]
  },
  {
   "cell_type": "code",
   "execution_count": null,
   "metadata": {},
   "outputs": [],
   "source": [
    "WT_Stats = pd.DataFrame()\n",
    "WT_Shared_Peaks = pd.DataFrame()\n",
    "WT_GCaMP = pd.DataFrame()\n",
    "WT_RCaMP = pd.DataFrame()\n",
    "\n",
    "WT_GTrace = pd.DataFrame()\n",
    "WT_RTrace = pd.DataFrame()\n",
    "\n",
    "WT_GDFF = []\n",
    "WT_RDFF = []\n",
    "\n",
    "WT_GDFF_index = []\n",
    "WT_RDFF_index = []\n",
    "\n",
    "for i in range(wt_results.shape[0]):\n",
    "    WT_GDFF_index.append(wt_results.iloc[i,1].cell)\n",
    "    WT_RDFF_index.append(wt_results.iloc[i,1].cell)\n",
    "    \n",
    "    WT_RDFF.append(pd.DataFrame(wt_results.iloc[i,1].nndR))\n",
    "    WT_GDFF.append(pd.DataFrame(wt_results.iloc[i,1].nndG))\n",
    "        \n",
    "    WT_Stats = WT_Stats.append(wt_results.iloc[i,1].cell_stats, ignore_index=True)\n",
    "    WT_Shared_Peaks = WT_Shared_Peaks.append(wt_results.iloc[i,1].shared_peak_data, ignore_index=True)\n",
    "    WT_GCaMP = WT_GCaMP.append(wt_results.iloc[i,1].gcamp_peak_data, ignore_index=True)\n",
    "    WT_RCaMP = WT_RCaMP.append(wt_results.iloc[i,1].rcamp_peak_data, ignore_index=True)\n",
    "\n",
    "WT_GDFF = pd.concat(WT_GDFF, axis=1) \n",
    "WT_GDFF = WT_GDFF.transpose()\n",
    "WT_GDFF.insert(loc=0, column='Cell', value=WT_GDFF_index)\n",
    "WT_RDFF = pd.concat(WT_RDFF, axis=1)   \n",
    "WT_RDFF = WT_RDFF.transpose()\n",
    "WT_RDFF.insert(loc=0, column='Cell', value=WT_RDFF_index)"
   ]
  },
  {
   "cell_type": "markdown",
   "metadata": {},
   "source": [
    "## Save Results for WT to CSV"
   ]
  },
  {
   "cell_type": "code",
   "execution_count": null,
   "metadata": {},
   "outputs": [],
   "source": [
    "np.set_printoptions(threshold=8000)\n",
    "WT_Stats.to_csv(\"WT_Stats.csv\", index=False)\n",
    "WT_Shared_Peaks.to_csv(\"WT_Shared_Peaks.csv\", index=False)\n",
    "WT_GCaMP.to_csv(\"WT_GCaMP.csv\", index=False)\n",
    "WT_RCaMP.to_csv(\"WT_RCaMP.csv\", index=False)\n",
    "\n",
    "WT_RTrace.to_csv(\"WT_R_Trace.csv\", index=False)\n",
    "WT_GTrace.to_csv(\"WT_G_Trace.csv\", index=False)\n",
    "WT_RDFF.to_csv(\"WT_R_DFF.csv\", index=False)\n",
    "WT_GDFF.to_csv(\"WT_G_DFF.csv\", index=False)\n",
    "\n",
    "np.set_printoptions(threshold=10)"
   ]
  },
  {
   "cell_type": "markdown",
   "metadata": {},
   "source": [
    "## Display Results for WT"
   ]
  },
  {
   "cell_type": "code",
   "execution_count": null,
   "metadata": {
    "scrolled": false
   },
   "outputs": [],
   "source": [
    "display(WT_Stats)\n",
    "display(WT_Shared_Peaks)\n",
    "display(WT_GCaMP)\n",
    "display(WT_RCaMP)"
   ]
  },
  {
   "cell_type": "markdown",
   "metadata": {},
   "source": [
    "## Inspect WT Results"
   ]
  },
  {
   "cell_type": "code",
   "execution_count": null,
   "metadata": {},
   "outputs": [],
   "source": [
    "def f(Experiment):\n",
    "    data= wt_results.index[wt_results['Name']==Experiment][0]\n",
    "    wt_results['Cell'][data].inspect_peaks()\n",
    "interact(f, Experiment=wt_results['Name'])"
   ]
  },
  {
   "cell_type": "code",
   "execution_count": null,
   "metadata": {
    "scrolled": false
   },
   "outputs": [],
   "source": [
    "def f(Experiment):\n",
    "    data= wt_results.index[wt_results['Name']==Experiment][0]\n",
    "    wt_results['Cell'][data].inspect_results()\n",
    "interact(f, Experiment=wt_results['Name'])"
   ]
  },
  {
   "cell_type": "markdown",
   "metadata": {},
   "source": [
    "## Cycle Through YAC128 Cells to Extract Peak Data\n"
   ]
  },
  {
   "cell_type": "code",
   "execution_count": null,
   "metadata": {},
   "outputs": [],
   "source": [
    "YAC128_Stats = pd.DataFrame()\n",
    "YAC128_Shared_Peaks = pd.DataFrame()\n",
    "YAC128_GCaMP = pd.DataFrame()\n",
    "YAC128_RCaMP = pd.DataFrame()\n",
    "\n",
    "YAC128_GTrace = pd.DataFrame()\n",
    "YAC128_RTrace = pd.DataFrame()\n",
    "\n",
    "YAC128_GDFF = []\n",
    "YAC128_RDFF = []\n",
    "\n",
    "YAC128_GDFF_index = []\n",
    "YAC128_RDFF_index = []\n",
    "\n",
    "for i in range(yac128_results.shape[0]):\n",
    "    YAC128_GDFF_index.append(yac128_results.iloc[i,1].cell)\n",
    "    YAC128_RDFF_index.append(yac128_results.iloc[i,1].cell)\n",
    "    \n",
    "    YAC128_RDFF.append(pd.DataFrame(yac128_results.iloc[i,1].nndR))\n",
    "    YAC128_GDFF.append(pd.DataFrame(yac128_results.iloc[i,1].nndG))\n",
    "    \n",
    "    YAC128_RTrace = YAC128_RTrace.append(pd.Series([yac128_results.iloc[i,1].cell, yac128_results.iloc[i,1].nndR], name=yac128_results.iloc[i,1].cell))\n",
    "    YAC128_GTrace = YAC128_GTrace.append(pd.Series([yac128_results.iloc[i,1].cell, yac128_results.iloc[i,1].nndG], name=yac128_results.iloc[i,1].cell)) \n",
    "\n",
    "    \n",
    "    YAC128_Stats = YAC128_Stats.append(yac128_results.iloc[i,1].cell_stats, ignore_index=True)\n",
    "    YAC128_Shared_Peaks = YAC128_Shared_Peaks.append(yac128_results.iloc[i,1].shared_peak_data, ignore_index=True)\n",
    "    YAC128_GCaMP = YAC128_GCaMP.append(yac128_results.iloc[i,1].gcamp_peak_data, ignore_index=True)\n",
    "    YAC128_RCaMP = YAC128_RCaMP.append(yac128_results.iloc[i,1].rcamp_peak_data, ignore_index=True)\n",
    "\n",
    "YAC128_GDFF = pd.concat(YAC128_GDFF, axis=1) \n",
    "YAC128_GDFF = YAC128_GDFF.transpose()\n",
    "YAC128_GDFF.insert(loc=0, column='Cell', value=YAC128_GDFF_index)\n",
    "YAC128_RDFF = pd.concat(YAC128_RDFF, axis=1)   \n",
    "YAC128_RDFF = YAC128_RDFF.transpose()\n",
    "YAC128_RDFF.insert(loc=0, column='Cell', value=YAC128_RDFF_index)"
   ]
  },
  {
   "cell_type": "markdown",
   "metadata": {},
   "source": [
    "## Save Results for YAC128 to CSV"
   ]
  },
  {
   "cell_type": "code",
   "execution_count": null,
   "metadata": {},
   "outputs": [],
   "source": [
    "np.set_printoptions(threshold=8000)\n",
    "YAC128_Stats.to_csv(\"YAC128_Stats.csv\", index=False)\n",
    "YAC128_Shared_Peaks.to_csv(\"YAC128_Shared_Peaks.csv\", index=False)\n",
    "YAC128_GCaMP.to_csv(\"YAC128_GCaMP.csv\", index=False)\n",
    "YAC128_RCaMP.to_csv(\"YAC128_RCaMP.csv\", index=False)\n",
    "\n",
    "YAC128_RTrace.to_csv(\"YAC128_R_Trace.csv\", index=False)\n",
    "YAC128_GTrace.to_csv(\"YAC128_G_Trace.csv\", index=False)\n",
    "YAC128_RDFF.to_csv(\"YAC128_R_DFF.csv\", index=False)\n",
    "YAC128_GDFF.to_csv(\"YAC128_G_DFF.csv\", index=False)\n",
    "\n",
    "np.set_printoptions(threshold=10)"
   ]
  },
  {
   "cell_type": "markdown",
   "metadata": {},
   "source": [
    "## Display Results for YAC128"
   ]
  },
  {
   "cell_type": "code",
   "execution_count": null,
   "metadata": {
    "scrolled": false
   },
   "outputs": [],
   "source": [
    "display(YAC128_Stats)\n",
    "display(YAC128_Shared_Peaks)\n",
    "display(YAC128_GCaMP)\n",
    "display(YAC128_RCaMP)\n"
   ]
  },
  {
   "cell_type": "markdown",
   "metadata": {},
   "source": [
    "## Inspect YAC128 Results"
   ]
  },
  {
   "cell_type": "code",
   "execution_count": null,
   "metadata": {},
   "outputs": [],
   "source": [
    "def f(Experiment):\n",
    "    data= yac128_results.index[yac128_results['Name']==Experiment][0]\n",
    "    yac128_results['Cell'][data].inspect_peaks()\n",
    "interact(f, Experiment=yac128_results['Name'])"
   ]
  },
  {
   "cell_type": "code",
   "execution_count": null,
   "metadata": {
    "scrolled": false
   },
   "outputs": [],
   "source": [
    "def f(Experiment):\n",
    "    data= yac128_results.index[yac128_results['Name']==Experiment][0]\n",
    "    yac128_results['Cell'][data].inspect_results()\n",
    "interact(f, Experiment=yac128_results['Name'])"
   ]
  }
 ],
 "metadata": {
  "kernelspec": {
   "display_name": "Python 3",
   "language": "python",
   "name": "python3"
  },
  "language_info": {
   "codemirror_mode": {
    "name": "ipython",
    "version": 3
   },
   "file_extension": ".py",
   "mimetype": "text/x-python",
   "name": "python",
   "nbconvert_exporter": "python",
   "pygments_lexer": "ipython3",
   "version": "3.6.9"
  }
 },
 "nbformat": 4,
 "nbformat_minor": 2
}
